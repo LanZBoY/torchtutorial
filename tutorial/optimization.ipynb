{
 "cells": [
  {
   "cell_type": "markdown",
   "metadata": {},
   "source": [
    "# 優化模型\n",
    "\n",
    "我有了模型和資料之後，該是訓練模型的時候\n",
    "\n",
    "在訓練中 我們會分成train, validate and test來優化並驗證模型參數(W parameters)\n",
    "\n",
    "在一個epoch中(也就是一個iterate)，模型會根據收到的資料透過運算的出模型猜的答案\n",
    "\n",
    "再來計算真實答案與模型答案的差距(loss)，並透過梯度下降法來達到優化模型的動作"
   ]
  },
  {
   "cell_type": "code",
   "execution_count": 1,
   "metadata": {},
   "outputs": [],
   "source": [
    "import torch\n",
    "from torch import nn\n",
    "from torch.utils.data import DataLoader\n",
    "from torchvision import datasets\n",
    "from torchvision.transforms import ToTensor, Lambda"
   ]
  },
  {
   "cell_type": "markdown",
   "metadata": {},
   "source": [
    "# 資料集"
   ]
  },
  {
   "cell_type": "code",
   "execution_count": 2,
   "metadata": {},
   "outputs": [],
   "source": [
    "training_data = datasets.FashionMNIST(\n",
    "    root='../data',\n",
    "    train=True,\n",
    "    download=True,\n",
    "    transform=ToTensor()\n",
    ")\n",
    "\n",
    "test_data = datasets.FashionMNIST(\n",
    "    root='../data',\n",
    "    train=False,\n",
    "    download=True,\n",
    "    transform=ToTensor()\n",
    ")"
   ]
  },
  {
   "cell_type": "markdown",
   "metadata": {},
   "source": [
    "# Dataloader 資料讀取器"
   ]
  },
  {
   "cell_type": "code",
   "execution_count": 3,
   "metadata": {},
   "outputs": [],
   "source": [
    "train_dataloader = DataLoader(training_data, batch_size=64)\n",
    "test_dataloader = DataLoader(test_data, batch_size=64)"
   ]
  },
  {
   "cell_type": "markdown",
   "metadata": {},
   "source": [
    "# 定義的model"
   ]
  },
  {
   "cell_type": "code",
   "execution_count": 4,
   "metadata": {},
   "outputs": [],
   "source": [
    "class NeuralNetwork(nn.Module):\n",
    "    def __init__(self):\n",
    "        super(NeuralNetwork, self).__init__()\n",
    "        self.flatten = nn.Flatten()\n",
    "        self.linear_relu_stack = nn.Sequential(\n",
    "            nn.Linear(28*28, 512),\n",
    "            nn.ReLU(),\n",
    "            nn.Linear(512, 512),\n",
    "            nn.ReLU(),\n",
    "            nn.Linear(512, 10),\n",
    "            nn.ReLU()\n",
    "        )\n",
    "\n",
    "    def forward(self, x):\n",
    "        x = self.flatten(x)\n",
    "        logits = self.linear_relu_stack(x)\n",
    "        return logits"
   ]
  },
  {
   "cell_type": "code",
   "execution_count": 5,
   "metadata": {},
   "outputs": [],
   "source": [
    "FCModel = NeuralNetwork()"
   ]
  },
  {
   "cell_type": "markdown",
   "metadata": {},
   "source": [
    "# 設定超參數"
   ]
  },
  {
   "cell_type": "code",
   "execution_count": 6,
   "metadata": {},
   "outputs": [],
   "source": [
    "learning_rate = 1e-3\n",
    "batch_size = 64\n",
    "epochs = 5"
   ]
  },
  {
   "cell_type": "markdown",
   "metadata": {},
   "source": [
    "## Add an optimization loop\n",
    "\n",
    "Once we set our hyperparameters, we can then train and optimize our model with an optimization loop. Each \n",
    "iteration of the optimization loop is called an **epoch**. \n",
    "\n",
    "Each epoch consists of two main parts:\n",
    " - **The Train Loop** - iterate over the training dataset and try to converge to optimal parameters.\n",
    " - **The Validation/Test Loop** - iterate over the test dataset to check if model performance is improving.\n",
    "\n",
    "Let's briefly familiarize ourselves with some of the concepts used in the training loop. Jump ahead to \n",
    "see the `full-impl-label` of the optimization loop.\n",
    "\n",
    "### Add a loss function\n",
    "\n",
    "When presented with some training data, our untrained network is likely not to give the correct \n",
    "answer. **Loss function** measures the degree of dissimilarity of obtained result to the target value, \n",
    "and it is the loss function that we want to minimize during training. To calculate the loss we make a \n",
    "prediction using the inputs of our given data sample and compare it against the true data label value.\n",
    "\n",
    "Common loss functions include:\n",
    "- `nn.MSELoss` (Mean Square Error) used for regression tasks\n",
    "- `nn.NLLLoss` (Negative Log Likelihood) used for classification\n",
    "- `nn.CrossEntropyLoss` combines `nn.LogSoftmax` and `nn.NLLLoss`\n",
    "\n",
    "We pass our model's output logits to `nn.CrossEntropyLoss`, which will normalize the logits and compute the prediction error."
   ]
  },
  {
   "cell_type": "code",
   "execution_count": 7,
   "metadata": {},
   "outputs": [],
   "source": [
    "# 初始化loss function\n",
    "loss_fn = nn.CrossEntropyLoss()"
   ]
  },
  {
   "cell_type": "markdown",
   "metadata": {},
   "source": [
    "### Optimization pass\n",
    "\n",
    "Optimization is the process of adjusting model parameters to reduce model error in each training step. **Optimization algorithms** define how this process is performed (in this example we use Stochastic Gradient Descent).\n",
    "All optimization logic is encapsulated in  the ``optimizer`` object. Here, we use the SGD optimizer; additionally, there are many different optimizers\n",
    "available in PyTorch such as `ADAM' and 'RMSProp`, that work better for different kinds of models and data.\n",
    "\n",
    "We initialize the optimizer by registering the model's parameters that need to be trained, and passing in the learning rate hyperparameter.\n",
    "\n"
   ]
  },
  {
   "cell_type": "code",
   "execution_count": 8,
   "metadata": {},
   "outputs": [],
   "source": [
    "optimizer = torch.optim.SGD(FCModel.parameters(), lr = learning_rate)"
   ]
  },
  {
   "cell_type": "markdown",
   "metadata": {},
   "source": [
    "Inside the training loop, optimization happens in three steps:\n",
    " * Call `optimizer.zero_grad()` to reset the gradients of model parameters. Gradients by default add up; to prevent double-counting, we explicitly zero them at each iteration.\n",
    " * Back-propagate the prediction loss with a call to `loss.backwards()`. PyTorch deposits the gradients of the loss w.r.t. each parameter. \n",
    " * Once we have our gradients, we call ``optimizer.step()`` to adjust the parameters by the gradients collected in the backward pass."
   ]
  },
  {
   "cell_type": "code",
   "execution_count": 9,
   "metadata": {},
   "outputs": [],
   "source": [
    "def train_loop(dataloader : DataLoader, model: nn.Module, loss_fn, optimizer):\n",
    "    size = len(dataloader.dataset)\n",
    "    for batch, (X, y) in enumerate(dataloader):\n",
    "        # 模型執行預測並計算loss值\n",
    "        pred = model(X)\n",
    "        loss = loss_fn(pred, y)\n",
    "\n",
    "        # Backpropagation\n",
    "        # 為了保險，先將所有剃度初始化\n",
    "        # 而在計算loss.backward()時並不會將梯度歸零，所以會梯度會被累計\n",
    "        optimizer.zero_grad()\n",
    "        loss.backward()\n",
    "        optimizer.step()\n",
    "\n",
    "        if batch % 100 == 0 :\n",
    "            loss, current = loss.item(), batch * len(X)\n",
    "            print(f'loss: {loss:>7f}, [{current:>5d} / {size:>5d}]')"
   ]
  },
  {
   "cell_type": "code",
   "execution_count": 10,
   "metadata": {},
   "outputs": [],
   "source": [
    "def test_loop(dataloder, model, loss_fn):\n",
    "    size = len(dataloder.dataset)\n",
    "    test_loss, correct = 0, 0\n",
    "    with torch.no_grad():\n",
    "        for X, y in dataloder:\n",
    "            pred = model(X)\n",
    "            test_loss += loss_fn(pred, y).item()\n",
    "            correct += (pred.argmax(1) == y).type(torch.float).sum().item()\n",
    "    test_loss /= size\n",
    "    correct /= size\n",
    "    print(f\"Test Error: \\n Accuracy: {(100*correct):>0.1f}%, Avg loss: {test_loss:>8f} \\n\")"
   ]
  },
  {
   "cell_type": "code",
   "execution_count": 11,
   "metadata": {},
   "outputs": [
    {
     "name": "stdout",
     "output_type": "stream",
     "text": [
      "Epoch 1\n",
      "-------------------------------\n",
      "loss: 2.300768, [    0 / 60000]\n",
      "loss: 2.299737, [ 6400 / 60000]\n",
      "loss: 2.292356, [12800 / 60000]\n",
      "loss: 2.289424, [19200 / 60000]\n",
      "loss: 2.292302, [25600 / 60000]\n",
      "loss: 2.265813, [32000 / 60000]\n",
      "loss: 2.274067, [38400 / 60000]\n",
      "loss: 2.260820, [44800 / 60000]\n",
      "loss: 2.240176, [51200 / 60000]\n",
      "loss: 2.232794, [57600 / 60000]\n",
      "Test Error: \n",
      " Accuracy: 29.0%, Avg loss: 0.035293 \n",
      "\n",
      "Epoch 2\n",
      "-------------------------------\n",
      "loss: 2.235668, [    0 / 60000]\n",
      "loss: 2.255345, [ 6400 / 60000]\n",
      "loss: 2.229270, [12800 / 60000]\n",
      "loss: 2.244750, [19200 / 60000]\n",
      "loss: 2.245237, [25600 / 60000]\n",
      "loss: 2.179070, [32000 / 60000]\n",
      "loss: 2.209753, [38400 / 60000]\n",
      "loss: 2.176279, [44800 / 60000]\n",
      "loss: 2.135143, [51200 / 60000]\n",
      "loss: 2.144182, [57600 / 60000]\n",
      "Test Error: \n",
      " Accuracy: 37.1%, Avg loss: 0.034074 \n",
      "\n",
      "Epoch 3\n",
      "-------------------------------\n",
      "loss: 2.135780, [    0 / 60000]\n",
      "loss: 2.181825, [ 6400 / 60000]\n",
      "loss: 2.144078, [12800 / 60000]\n",
      "loss: 2.184676, [19200 / 60000]\n",
      "loss: 2.175123, [25600 / 60000]\n",
      "loss: 2.059225, [32000 / 60000]\n",
      "loss: 2.112077, [38400 / 60000]\n",
      "loss: 2.052513, [44800 / 60000]\n",
      "loss: 1.982191, [51200 / 60000]\n",
      "loss: 2.005793, [57600 / 60000]\n",
      "Test Error: \n",
      " Accuracy: 39.4%, Avg loss: 0.032184 \n",
      "\n",
      "Epoch 4\n",
      "-------------------------------\n",
      "loss: 1.997247, [    0 / 60000]\n",
      "loss: 2.074085, [ 6400 / 60000]\n",
      "loss: 2.012594, [12800 / 60000]\n",
      "loss: 2.062858, [19200 / 60000]\n",
      "loss: 2.049868, [25600 / 60000]\n",
      "loss: 1.904217, [32000 / 60000]\n",
      "loss: 1.956625, [38400 / 60000]\n",
      "loss: 1.875293, [44800 / 60000]\n",
      "loss: 1.778766, [51200 / 60000]\n",
      "loss: 1.813042, [57600 / 60000]\n",
      "Test Error: \n",
      " Accuracy: 40.8%, Avg loss: 0.029414 \n",
      "\n",
      "Epoch 5\n",
      "-------------------------------\n",
      "loss: 1.815150, [    0 / 60000]\n",
      "loss: 1.915319, [ 6400 / 60000]\n",
      "loss: 1.808629, [12800 / 60000]\n",
      "loss: 1.894499, [19200 / 60000]\n",
      "loss: 1.817297, [25600 / 60000]\n",
      "loss: 1.658566, [32000 / 60000]\n",
      "loss: 1.729079, [38400 / 60000]\n",
      "loss: 1.609128, [44800 / 60000]\n",
      "loss: 1.572147, [51200 / 60000]\n",
      "loss: 1.584480, [57600 / 60000]\n",
      "Test Error: \n",
      " Accuracy: 55.2%, Avg loss: 0.026158 \n",
      "\n",
      "Epoch 6\n",
      "-------------------------------\n",
      "loss: 1.615830, [    0 / 60000]\n",
      "loss: 1.727718, [ 6400 / 60000]\n",
      "loss: 1.600281, [12800 / 60000]\n",
      "loss: 1.738693, [19200 / 60000]\n",
      "loss: 1.586663, [25600 / 60000]\n",
      "loss: 1.442329, [32000 / 60000]\n",
      "loss: 1.540329, [38400 / 60000]\n",
      "loss: 1.409619, [44800 / 60000]\n",
      "loss: 1.424073, [51200 / 60000]\n",
      "loss: 1.429448, [57600 / 60000]\n",
      "Test Error: \n",
      " Accuracy: 56.6%, Avg loss: 0.023805 \n",
      "\n",
      "Epoch 7\n",
      "-------------------------------\n",
      "loss: 1.471242, [    0 / 60000]\n",
      "loss: 1.592704, [ 6400 / 60000]\n",
      "loss: 1.457333, [12800 / 60000]\n",
      "loss: 1.629056, [19200 / 60000]\n",
      "loss: 1.432253, [25600 / 60000]\n",
      "loss: 1.308996, [32000 / 60000]\n",
      "loss: 1.414769, [38400 / 60000]\n",
      "loss: 1.287044, [44800 / 60000]\n",
      "loss: 1.321469, [51200 / 60000]\n",
      "loss: 1.335258, [57600 / 60000]\n",
      "Test Error: \n",
      " Accuracy: 57.2%, Avg loss: 0.022192 \n",
      "\n",
      "Epoch 8\n",
      "-------------------------------\n",
      "loss: 1.369450, [    0 / 60000]\n",
      "loss: 1.500307, [ 6400 / 60000]\n",
      "loss: 1.353616, [12800 / 60000]\n",
      "loss: 1.545969, [19200 / 60000]\n",
      "loss: 1.325049, [25600 / 60000]\n",
      "loss: 1.220655, [32000 / 60000]\n",
      "loss: 1.328604, [38400 / 60000]\n",
      "loss: 1.202497, [44800 / 60000]\n",
      "loss: 1.245689, [51200 / 60000]\n",
      "loss: 1.270074, [57600 / 60000]\n",
      "Test Error: \n",
      " Accuracy: 58.0%, Avg loss: 0.020987 \n",
      "\n",
      "Epoch 9\n",
      "-------------------------------\n",
      "loss: 1.294065, [    0 / 60000]\n",
      "loss: 1.430116, [ 6400 / 60000]\n",
      "loss: 1.269880, [12800 / 60000]\n",
      "loss: 1.478716, [19200 / 60000]\n",
      "loss: 1.246956, [25600 / 60000]\n",
      "loss: 1.154829, [32000 / 60000]\n",
      "loss: 1.267476, [38400 / 60000]\n",
      "loss: 1.138670, [44800 / 60000]\n",
      "loss: 1.187524, [51200 / 60000]\n",
      "loss: 1.221412, [57600 / 60000]\n",
      "Test Error: \n",
      " Accuracy: 59.1%, Avg loss: 0.020060 \n",
      "\n",
      "Epoch 10\n",
      "-------------------------------\n",
      "loss: 1.235705, [    0 / 60000]\n",
      "loss: 1.373391, [ 6400 / 60000]\n",
      "loss: 1.202245, [12800 / 60000]\n",
      "loss: 1.424497, [19200 / 60000]\n",
      "loss: 1.190124, [25600 / 60000]\n",
      "loss: 1.105076, [32000 / 60000]\n",
      "loss: 1.222632, [38400 / 60000]\n",
      "loss: 1.089820, [44800 / 60000]\n",
      "loss: 1.141964, [51200 / 60000]\n",
      "loss: 1.184918, [57600 / 60000]\n",
      "Test Error: \n",
      " Accuracy: 60.0%, Avg loss: 0.019344 \n",
      "\n",
      "Done!\n"
     ]
    }
   ],
   "source": [
    "loss_fn = nn.CrossEntropyLoss()\n",
    "optimizer = torch.optim.SGD(FCModel.parameters(), lr=learning_rate)\n",
    "\n",
    "epochs = 10\n",
    "for t in range(epochs):\n",
    "    print(f\"Epoch {t+1}\\n-------------------------------\")\n",
    "    train_loop(train_dataloader, FCModel, loss_fn, optimizer)\n",
    "    test_loop(test_dataloader, FCModel, loss_fn)\n",
    "print(\"Done!\")"
   ]
  },
  {
   "cell_type": "markdown",
   "metadata": {},
   "source": [
    "Saving Models\n",
    "-------------\n",
    "\n",
    "When you are satisfied with the model's performance, you can use `torch.save` to save it. PyTorch models store the learned parameters in an internal state dictionary, called `state_dict`. These can be persisted wit the `torch.save` method:"
   ]
  },
  {
   "cell_type": "code",
   "execution_count": 14,
   "metadata": {},
   "outputs": [
    {
     "name": "stdout",
     "output_type": "stream",
     "text": [
      "Saved PyTorch Model State to model.pth\n"
     ]
    }
   ],
   "source": [
    "torch.save(FCModel.state_dict(), \"../data/model.pth\")\n",
    "\n",
    "print(\"Saved PyTorch Model State to model.pth\")"
   ]
  },
  {
   "cell_type": "code",
   "execution_count": null,
   "metadata": {},
   "outputs": [],
   "source": []
  }
 ],
 "metadata": {
  "kernelspec": {
   "display_name": "Python 3.10.4 64-bit",
   "language": "python",
   "name": "python3"
  },
  "language_info": {
   "codemirror_mode": {
    "name": "ipython",
    "version": 3
   },
   "file_extension": ".py",
   "mimetype": "text/x-python",
   "name": "python",
   "nbconvert_exporter": "python",
   "pygments_lexer": "ipython3",
   "version": "3.10.4"
  },
  "orig_nbformat": 4,
  "vscode": {
   "interpreter": {
    "hash": "118d2d70b9837ec74e99cd8e271bd7c1e24309015268c38b027840ab45e80ec0"
   }
  }
 },
 "nbformat": 4,
 "nbformat_minor": 2
}
