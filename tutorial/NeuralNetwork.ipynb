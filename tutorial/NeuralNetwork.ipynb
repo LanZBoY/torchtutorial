{
 "cells": [
  {
   "cell_type": "markdown",
   "metadata": {},
   "source": [
    "# 神經網路\n",
    "\n",
    "神經網路由一堆神經元所組成，當有一排神經元時可稱作一個layer\n",
    "而layer又可以細分三個層，分別為input layer、hidden layer跟output layer\n",
    "\n",
    "## 神經網路元件\n",
    "\n",
    "* Activation function 中文稱作激勵函數或激活函數，用來表示該神經元是否被啟動如果該神經元被激活則代表其接受到的某種特徵數據有一定的重要性\n",
    "* Weights 又稱為權重\n",
    "* Bias 偏移量\n"
   ]
  },
  {
   "cell_type": "code",
   "execution_count": 1,
   "metadata": {},
   "outputs": [],
   "source": [
    "# basic import\n",
    "import os\n",
    "import torch\n",
    "from torch import nn\n",
    "from torch.utils.data import DataLoader\n",
    "from torchvision import datasets, transforms"
   ]
  },
  {
   "cell_type": "code",
   "execution_count": 2,
   "metadata": {},
   "outputs": [
    {
     "name": "stdout",
     "output_type": "stream",
     "text": [
      "Using cuda device\n"
     ]
    }
   ],
   "source": [
    "device = 'cuda' if torch.cuda.is_available() else 'cpu'\n",
    "print('Using {} device'.format(device))"
   ]
  },
  {
   "cell_type": "markdown",
   "metadata": {},
   "source": [
    "# 定義一個模型"
   ]
  },
  {
   "cell_type": "code",
   "execution_count": 3,
   "metadata": {},
   "outputs": [],
   "source": [
    "class NeuralNetwork(nn.Module):\n",
    "\n",
    "    def __init__(self):\n",
    "        super(NeuralNetwork, self).__init__()\n",
    "        self.flatten = nn.Flatten()\n",
    "        self.linear_relu_stack = nn.Sequential(\n",
    "            nn.Linear(28 * 28, 512),\n",
    "            nn.ReLU(),\n",
    "            nn.Linear(512, 512),\n",
    "            nn.ReLU(),\n",
    "            nn.Linear(512, 10),\n",
    "            nn.ReLU()\n",
    "        )\n",
    "    def forward(self, x):\n",
    "        x = self.flatten(x)\n",
    "        logits = self.linear_relu_stack(x)\n",
    "        return logits"
   ]
  },
  {
   "cell_type": "code",
   "execution_count": 4,
   "metadata": {},
   "outputs": [
    {
     "name": "stdout",
     "output_type": "stream",
     "text": [
      "NeuralNetwork(\n",
      "  (flatten): Flatten(start_dim=1, end_dim=-1)\n",
      "  (linear_relu_stack): Sequential(\n",
      "    (0): Linear(in_features=784, out_features=512, bias=True)\n",
      "    (1): ReLU()\n",
      "    (2): Linear(in_features=512, out_features=512, bias=True)\n",
      "    (3): ReLU()\n",
      "    (4): Linear(in_features=512, out_features=10, bias=True)\n",
      "    (5): ReLU()\n",
      "  )\n",
      ")\n"
     ]
    }
   ],
   "source": [
    "model = NeuralNetwork().to(device=device)\n",
    "print(model)"
   ]
  },
  {
   "cell_type": "code",
   "execution_count": 14,
   "metadata": {},
   "outputs": [
    {
     "name": "stdout",
     "output_type": "stream",
     "text": [
      "logits is tensor([[0.0808, 0.0000, 0.0079, 0.0000, 0.0000, 0.0770, 0.0273, 0.0000, 0.0000,\n",
      "         0.0329]], device='cuda:0', grad_fn=<ReluBackward0>)\n",
      "pred_probab is tensor([[0.1059, 0.0977, 0.0985, 0.0977, 0.0977, 0.1055, 0.1004, 0.0977, 0.0977,\n",
      "         0.1010]], device='cuda:0', grad_fn=<SoftmaxBackward0>)\n",
      "Predicted Class : tensor([0], device='cuda:0')\n"
     ]
    }
   ],
   "source": [
    "# rand feature\n",
    "\n",
    "X = torch.rand(size=(1, 28, 28), device=device)\n",
    "logits = model(X)\n",
    "print(f'logits is {logits}')\n",
    "pred_probab = nn.Softmax(dim=1)(logits)\n",
    "print(f'pred_probab is {pred_probab}')\n",
    "y_pred = pred_probab.argmax(1)\n",
    "print(f'Predicted Class : {y_pred}')"
   ]
  },
  {
   "cell_type": "code",
   "execution_count": 25,
   "metadata": {},
   "outputs": [
    {
     "name": "stdout",
     "output_type": "stream",
     "text": [
      "The shape(batch, W, H) = torch.Size([3, 28, 28])\n",
      "Ouput logits shape is torch.Size([3, 10])\n",
      "pred_probab is tensor([[0.1050, 0.0984, 0.1022, 0.0984, 0.0984, 0.1019, 0.1008, 0.0984, 0.0984,\n",
      "         0.0984],\n",
      "        [0.1113, 0.0975, 0.1003, 0.0975, 0.0975, 0.1056, 0.0978, 0.0975, 0.0975,\n",
      "         0.0975],\n",
      "        [0.1070, 0.0975, 0.1032, 0.0975, 0.0975, 0.1026, 0.0983, 0.0975, 0.0975,\n",
      "         0.1014]], device='cuda:0', grad_fn=<SoftmaxBackward0>)\n",
      "Predicted Class : tensor([0, 0, 0], device='cuda:0')\n"
     ]
    }
   ],
   "source": [
    "# minibatch of calculation\n",
    "\n",
    "input_images = torch.rand(size = (3, 28, 28), device=device) # 模擬同時丟三張圖片進去model中\n",
    "print(f'The shape(batch, W, H) = {input_images.shape}')\n",
    "logits = model(input_images)\n",
    "print(f'Ouput logits shape is {logits.shape}') # 輸出同時也會有三個結果\n",
    "pred_probab = nn.Softmax(dim=1)(logits) # 因為輸出shape 為(3, 10) dim為1代表在10個元素中計算softmax機率分布(注意共計算三個)\n",
    "print(f'pred_probab is {pred_probab}')\n",
    "y_pred = pred_probab.argmax(1)\n",
    "print(f'Predicted Class : {y_pred}')"
   ]
  },
  {
   "cell_type": "markdown",
   "metadata": {},
   "source": [
    "## Model Layer"
   ]
  },
  {
   "cell_type": "markdown",
   "metadata": {},
   "source": [
    "### nn.Flatten"
   ]
  },
  {
   "cell_type": "code",
   "execution_count": 30,
   "metadata": {},
   "outputs": [
    {
     "name": "stdout",
     "output_type": "stream",
     "text": [
      "Origin shape : torch.Size([3, 28, 28])\n",
      "Output shape : torch.Size([3, 784])\n"
     ]
    }
   ],
   "source": [
    "flatten = nn.Flatten().to(device) \n",
    "flat_image = flatten(input_images) # 代表蔣每個影像攤平處理(不包含第一軸(batch))\n",
    "print(f'Origin shape : {input_images.size()}')\n",
    "print(f'Output shape : {flat_image.size()}')"
   ]
  },
  {
   "cell_type": "markdown",
   "metadata": {},
   "source": [
    "### nn.Linear"
   ]
  },
  {
   "cell_type": "code",
   "execution_count": 31,
   "metadata": {},
   "outputs": [
    {
     "name": "stdout",
     "output_type": "stream",
     "text": [
      "Output shape : torch.Size([3, 20])\n"
     ]
    }
   ],
   "source": [
    "layer1 = nn.Linear(in_features= 28 * 28, out_features= 20).to(device)\n",
    "hidden1 = layer1(flat_image)\n",
    "print(f'Output shape : {hidden1.size()}')"
   ]
  },
  {
   "cell_type": "markdown",
   "metadata": {},
   "source": [
    "### nn.ReLU"
   ]
  },
  {
   "cell_type": "code",
   "execution_count": 32,
   "metadata": {},
   "outputs": [
    {
     "name": "stdout",
     "output_type": "stream",
     "text": [
      "Before ReLU: tensor([[-0.1669, -0.1449, -0.1265, -0.1412,  0.3756, -0.2061, -0.2088,  0.0654,\n",
      "         -0.0725, -0.0130, -0.1446, -0.4317, -0.1830,  0.2018, -0.1954,  0.4542,\n",
      "         -0.0687, -0.4447, -0.1619,  0.3076],\n",
      "        [ 0.1202, -0.2142, -0.4134, -0.0531,  0.6478,  0.2075, -0.3113,  0.3561,\n",
      "         -0.1047,  0.0778, -0.3275, -0.2238, -0.0159,  0.4323, -0.1919,  0.4680,\n",
      "         -0.3092, -0.1982,  0.0143,  0.2569],\n",
      "        [ 0.0678, -0.2512, -0.3570, -0.0596,  0.5324,  0.1420,  0.1087,  0.2630,\n",
      "          0.2454,  0.3016, -0.1586, -0.1986,  0.1387,  0.4295, -0.4479,  0.0813,\n",
      "         -0.3629, -0.1127, -0.2666,  0.5528]], device='cuda:0',\n",
      "       grad_fn=<AddmmBackward0>)\n",
      "\n",
      "\n",
      "After ReLU: tensor([[0.0000, 0.0000, 0.0000, 0.0000, 0.3756, 0.0000, 0.0000, 0.0654, 0.0000,\n",
      "         0.0000, 0.0000, 0.0000, 0.0000, 0.2018, 0.0000, 0.4542, 0.0000, 0.0000,\n",
      "         0.0000, 0.3076],\n",
      "        [0.1202, 0.0000, 0.0000, 0.0000, 0.6478, 0.2075, 0.0000, 0.3561, 0.0000,\n",
      "         0.0778, 0.0000, 0.0000, 0.0000, 0.4323, 0.0000, 0.4680, 0.0000, 0.0000,\n",
      "         0.0143, 0.2569],\n",
      "        [0.0678, 0.0000, 0.0000, 0.0000, 0.5324, 0.1420, 0.1087, 0.2630, 0.2454,\n",
      "         0.3016, 0.0000, 0.0000, 0.1387, 0.4295, 0.0000, 0.0813, 0.0000, 0.0000,\n",
      "         0.0000, 0.5528]], device='cuda:0', grad_fn=<ReluBackward0>)\n"
     ]
    }
   ],
   "source": [
    "print(f\"Before ReLU: {hidden1}\\n\\n\")\n",
    "hidden1 = nn.ReLU()(hidden1)\n",
    "print(f\"After ReLU: {hidden1}\")"
   ]
  },
  {
   "cell_type": "markdown",
   "metadata": {},
   "source": [
    "### nn.Sequential\n",
    "\n",
    "`nn.Sequential` is an ordered \n",
    "container of modules. The data is passed through all the modules in the same order as defined. You can use\n",
    "sequential containers to put together a quick network like `seq_modules`."
   ]
  },
  {
   "cell_type": "code",
   "execution_count": 35,
   "metadata": {},
   "outputs": [],
   "source": [
    "seq_modules = nn.Sequential(\n",
    "    flatten,\n",
    "    layer1,\n",
    "    nn.ReLU(),\n",
    "    nn.Linear(20, 10)\n",
    ").to(device=device)\n",
    "input_image = torch.rand(3,28,28, device=device)\n",
    "logits = seq_modules(input_image)"
   ]
  },
  {
   "cell_type": "markdown",
   "metadata": {},
   "source": [
    "### nn.Softmax"
   ]
  },
  {
   "cell_type": "code",
   "execution_count": null,
   "metadata": {},
   "outputs": [],
   "source": []
  },
  {
   "cell_type": "markdown",
   "metadata": {},
   "source": [
    "## Model parameters\n",
    "\n",
    "Many layers inside a neural network are *parameterized*, i.e. have associated weights \n",
    "and biases that are optimized during training. Subclassing `nn.Module` automatically \n",
    "tracks all fields defined inside your model object, and makes all parameters \n",
    "accessible using your model's `parameters()` or `named_parameters()` methods.\n",
    "\n",
    "In this example, we iterate over each parameter, and print its size and a preview of its values."
   ]
  },
  {
   "cell_type": "code",
   "execution_count": 36,
   "metadata": {},
   "outputs": [
    {
     "name": "stdout",
     "output_type": "stream",
     "text": [
      "Model structure:  NeuralNetwork(\n",
      "  (flatten): Flatten(start_dim=1, end_dim=-1)\n",
      "  (linear_relu_stack): Sequential(\n",
      "    (0): Linear(in_features=784, out_features=512, bias=True)\n",
      "    (1): ReLU()\n",
      "    (2): Linear(in_features=512, out_features=512, bias=True)\n",
      "    (3): ReLU()\n",
      "    (4): Linear(in_features=512, out_features=10, bias=True)\n",
      "    (5): ReLU()\n",
      "  )\n",
      ") \n",
      "\n",
      "\n",
      "Layer: linear_relu_stack.0.weight | Size: torch.Size([512, 784]) | Values : tensor([[-0.0190,  0.0097,  0.0304,  ...,  0.0001,  0.0330, -0.0076],\n",
      "        [ 0.0133, -0.0276, -0.0211,  ...,  0.0144, -0.0053, -0.0144]],\n",
      "       device='cuda:0', grad_fn=<SliceBackward0>) \n",
      "\n",
      "Layer: linear_relu_stack.0.bias | Size: torch.Size([512]) | Values : tensor([-0.0343, -0.0098], device='cuda:0', grad_fn=<SliceBackward0>) \n",
      "\n",
      "Layer: linear_relu_stack.2.weight | Size: torch.Size([512, 512]) | Values : tensor([[ 0.0363, -0.0277, -0.0276,  ..., -0.0005,  0.0401, -0.0434],\n",
      "        [-0.0441,  0.0440, -0.0240,  ..., -0.0374,  0.0011, -0.0248]],\n",
      "       device='cuda:0', grad_fn=<SliceBackward0>) \n",
      "\n",
      "Layer: linear_relu_stack.2.bias | Size: torch.Size([512]) | Values : tensor([0.0378, 0.0327], device='cuda:0', grad_fn=<SliceBackward0>) \n",
      "\n",
      "Layer: linear_relu_stack.4.weight | Size: torch.Size([10, 512]) | Values : tensor([[-0.0409,  0.0118, -0.0381,  ..., -0.0047,  0.0296,  0.0420],\n",
      "        [ 0.0261,  0.0009, -0.0078,  ...,  0.0213, -0.0440, -0.0423]],\n",
      "       device='cuda:0', grad_fn=<SliceBackward0>) \n",
      "\n",
      "Layer: linear_relu_stack.4.bias | Size: torch.Size([10]) | Values : tensor([ 0.0436, -0.0101], device='cuda:0', grad_fn=<SliceBackward0>) \n",
      "\n"
     ]
    }
   ],
   "source": [
    "print(\"Model structure: \", model, \"\\n\\n\")\n",
    "\n",
    "for name, param in model.named_parameters():\n",
    "    print(f\"Layer: {name} | Size: {param.size()} | Values : {param[:2]} \\n\")"
   ]
  },
  {
   "cell_type": "code",
   "execution_count": null,
   "metadata": {},
   "outputs": [],
   "source": []
  }
 ],
 "metadata": {
  "kernelspec": {
   "display_name": "Python 3.10.4 64-bit",
   "language": "python",
   "name": "python3"
  },
  "language_info": {
   "codemirror_mode": {
    "name": "ipython",
    "version": 3
   },
   "file_extension": ".py",
   "mimetype": "text/x-python",
   "name": "python",
   "nbconvert_exporter": "python",
   "pygments_lexer": "ipython3",
   "version": "3.10.4"
  },
  "orig_nbformat": 4,
  "vscode": {
   "interpreter": {
    "hash": "118d2d70b9837ec74e99cd8e271bd7c1e24309015268c38b027840ab45e80ec0"
   }
  }
 },
 "nbformat": 4,
 "nbformat_minor": 2
}
